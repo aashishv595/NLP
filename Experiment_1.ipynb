{
  "nbformat": 4,
  "nbformat_minor": 0,
  "metadata": {
    "colab": {
      "provenance": []
    },
    "kernelspec": {
      "name": "python3",
      "display_name": "Python 3"
    },
    "language_info": {
      "name": "python"
    }
  },
  "cells": [
    {
      "cell_type": "code",
      "execution_count": 3,
      "metadata": {
        "colab": {
          "base_uri": "https://localhost:8080/"
        },
        "id": "jyqUfwoWftSh",
        "outputId": "a86d6bef-ce47-4f98-960b-1a624555f476"
      },
      "outputs": [
        {
          "output_type": "stream",
          "name": "stdout",
          "text": [
            "Requirement already satisfied: nltk in /usr/local/lib/python3.10/dist-packages (3.8.1)\n",
            "Requirement already satisfied: click in /usr/local/lib/python3.10/dist-packages (from nltk) (8.1.7)\n",
            "Requirement already satisfied: joblib in /usr/local/lib/python3.10/dist-packages (from nltk) (1.3.2)\n",
            "Requirement already satisfied: regex>=2021.8.3 in /usr/local/lib/python3.10/dist-packages (from nltk) (2023.12.25)\n",
            "Requirement already satisfied: tqdm in /usr/local/lib/python3.10/dist-packages (from nltk) (4.66.1)\n",
            "Word Tokens (WordTokenizer): ['NLTK', 'is', 'a', 'leading', 'platform', 'for', 'building', 'Python', 'programs', 'to', 'work', 'with', 'human', 'language', 'data', '.']\n",
            "\n",
            "Sentence Tokens (SentenceTokenizer): ['NLTK is a leading platform for building Python programs to work with human language data.']\n",
            "\n",
            "Regular Expression Tokens (RegExpTokenizer): ['NLTK', 'is', 'a', 'leading', 'platform', 'for', 'building', 'Python', 'programs', 'to', 'work', 'with', 'human', 'language', 'data']\n",
            "\n",
            "WordPunct Tokens (WordPunctTokenizer): ['NLTK', 'is', 'a', 'leading', 'platform', 'for', 'building', 'Python', 'programs', 'to', 'work', 'with', 'human', 'language', 'data', '.']\n",
            "\n",
            "Tab Tokens (TabTokenizer): ['NLTK is a leading platform for building Python programs to work with human language data.']\n"
          ]
        },
        {
          "output_type": "stream",
          "name": "stderr",
          "text": [
            "[nltk_data] Downloading package punkt to /root/nltk_data...\n",
            "[nltk_data]   Package punkt is already up-to-date!\n"
          ]
        }
      ],
      "source": [
        "# Install NLTK library\n",
        "!pip install nltk\n",
        "\n",
        "# Import NLTK and download necessary resources\n",
        "import nltk\n",
        "nltk.download('punkt')\n",
        "\n",
        "# Import required tokenizers\n",
        "from nltk.tokenize import word_tokenize, sent_tokenize, regexp_tokenize, WordPunctTokenizer, TabTokenizer\n",
        "\n",
        "# Sample text for tokenization\n",
        "sample_text = \"Hello , My name is Aashish , Today is very beautiful day.\"\n",
        "\n",
        "# Word Tokenization\n",
        "word_tokens = word_tokenize(sample_text)\n",
        "print(\"Word Tokens (WordTokenizer):\", word_tokens)\n",
        "\n",
        "# Sentence Tokenization\n",
        "sent_tokens = sent_tokenize(sample_text)\n",
        "print(\"\\nSentence Tokens (SentenceTokenizer):\", sent_tokens)\n",
        "\n",
        "# Regular Expression Tokenization\n",
        "# Define regular expression pattern for tokenization\n",
        "pattern = r'\\w+'\n",
        "regex_tokens = regexp_tokenize(sample_text, pattern)\n",
        "print(\"\\nRegular Expression Tokens (RegExpTokenizer):\", regex_tokens)\n",
        "\n",
        "# WordPunct Tokenization\n",
        "wordpunct_tokenizer = WordPunctTokenizer()\n",
        "wordpunct_tokens = wordpunct_tokenizer.tokenize(sample_text)\n",
        "print(\"\\nWordPunct Tokens (WordPunctTokenizer):\", wordpunct_tokens)\n",
        "\n",
        "# Tab Tokenization\n",
        "tab_tokenizer = TabTokenizer()\n",
        "tab_tokens = tab_tokenizer.tokenize(sample_text)\n",
        "print(\"\\nTab Tokens (TabTokenizer):\", tab_tokens)\n"
      ]
    }
  ]
}